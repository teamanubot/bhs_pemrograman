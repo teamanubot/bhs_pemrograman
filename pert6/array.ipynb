{
 "cells": [
  {
   "cell_type": "markdown",
   "metadata": {},
   "source": [
    "# pertemuan 6 Array Basic"
   ]
  },
  {
   "cell_type": "markdown",
   "metadata": {},
   "source": [
    "## Apa itu Array ?\n"
   ]
  },
  {
   "cell_type": "markdown",
   "metadata": {},
   "source": [
    "### Array adalah struktur data yang digunakan untuk menyimpan kumpulan elemen data dengan tipe yang sama dalam satu variabel. Ini memungkinkan kita untuk mengelompokkan data terkait bersama-sama dan mengaksesnya menggunakan indeks numerik.\n",
    "\n",
    "### Di dalam Python, struktur data yang mirip dengan array adalah daftar (list). Namun, secara umum, array juga dapat merujuk pada struktur data serupa di bahasa pemrograman lainnya yang memungkinkan pengindeksan elemen-elemen data berdasarkan posisi numerik mereka dalam urutan."
   ]
  },
  {
   "cell_type": "code",
   "execution_count": 27,
   "metadata": {},
   "outputs": [
    {
     "name": "stdout",
     "output_type": "stream",
     "text": [
      "[1, 2, 3]\n",
      "1\n",
      "2\n",
      "3\n"
     ]
    }
   ],
   "source": [
    "# list input\n",
    "\n",
    "my_list = [1, 2, 3]\n",
    "\n",
    "print(my_list)\n",
    "print(my_list[0])\n",
    "print(my_list[1])\n",
    "print(my_list[2])"
   ]
  },
  {
   "cell_type": "code",
   "execution_count": 28,
   "metadata": {},
   "outputs": [
    {
     "name": "stdout",
     "output_type": "stream",
     "text": [
      "[]\n"
     ]
    }
   ],
   "source": [
    "# empty list\n",
    "\n",
    "my_list = []\n",
    "print(my_list)"
   ]
  },
  {
   "cell_type": "code",
   "execution_count": 29,
   "metadata": {},
   "outputs": [
    {
     "name": "stdout",
     "output_type": "stream",
     "text": [
      "[1, 'hello', 3.4]\n",
      "1\n",
      "hello\n",
      "3.4\n"
     ]
    }
   ],
   "source": [
    "# list mixed type data\n",
    "\n",
    "my_list = [1, \"hello\", 3.4]\n",
    "print(my_list)\n",
    "print(my_list[0])\n",
    "print(my_list[1])\n",
    "print(my_list[2])"
   ]
  },
  {
   "cell_type": "code",
   "execution_count": 30,
   "metadata": {},
   "outputs": [
    {
     "name": "stdout",
     "output_type": "stream",
     "text": [
      "['mouse', [1, 2, 3], ['a']]\n",
      "mouse\n",
      "1\n",
      "2\n",
      "3\n",
      "a\n"
     ]
    }
   ],
   "source": [
    "# nested list\n",
    "\n",
    "my_list = [\"mouse\", [1, 2, 3], ['a']]\n",
    "print(my_list)\n",
    "print(my_list[0])\n",
    "print(my_list[1][0])\n",
    "print(my_list[1][1])\n",
    "print(my_list[1][2])\n",
    "print(my_list[2][0])"
   ]
  },
  {
   "cell_type": "markdown",
   "metadata": {},
   "source": [
    "## Contoh konversi API/JSON kedalam ARRAY"
   ]
  },
  {
   "cell_type": "code",
   "execution_count": 57,
   "metadata": {},
   "outputs": [
    {
     "name": "stdout",
     "output_type": "stream",
     "text": [
      "{'data': [{'type': 'article', 'id': 1, 'attributes': {'title': 'Data Diri', 'body': 'Berikut adalah data diri', 'created': '10-05-2024', 'updated': '10-05-2024'}, 'relationships': {'author': {'data': {'type': 'person', 'id': 101}}}}], 'included': [{'type': 'person', 'id': 101, 'attributes': {'name': 'Rivai', 'age': 22, 'gender': 'Laki-Laki'}}]} \n",
      "\n",
      "\u001b[48;2;0;0;0m\u001b[38;2;255;0;0m\u001b[1m\u001b[4mData Diri\u001b[0m\n",
      "\u001b[48;2;0;0;0m\u001b[38;2;0;255;0mBerikut adalah data diri\u001b[0m\n",
      "\u001b[48;2;0;0;0m\u001b[38;2;255;0;255mNama : Rivai\u001b[0m\n",
      "\u001b[48;2;0;0;0m\u001b[38;2;255;0;255mUmur : 22\u001b[0m\n",
      "\u001b[48;2;0;0;0m\u001b[38;2;255;0;255mJenis Kelamin : Laki-Laki\u001b[0m\n",
      "\u001b[48;2;0;0;0m\u001b[38;2;255;255;0mCreated : 10-05-2024\u001b[0m\n"
     ]
    }
   ],
   "source": [
    "# Alay Mode #\n",
    "\n",
    "def print_kostumisasi(kodeWarnaLatar, kodeWarnaTeks, text):\n",
    "    # Kode ANSI \\033[<code>m #\n",
    "    # Kode kostumisasi Warna #\n",
    "    # Warna Teks : \\033[38; #\n",
    "    # Warna Latar : \\033[48; #\n",
    "    # Merah (R) - Hijau (G) - Biru (B) #\n",
    "    # <2 (24-bit) / 5 (16-bit);<komponen R>;<komponen G>;<komponen B>m #\n",
    "    # Batas komponen RGB : 0-255 #\n",
    "    print(f\"\\033[{kodeWarnaLatar}m\\033[{kodeWarnaTeks}m{text}\\033[0m\")\n",
    "\n",
    "# Batas Alay Mode #\n",
    "\n",
    "response = {\n",
    "    \"data\": [\n",
    "        {\n",
    "            \"type\": \"article\",\n",
    "            \"id\": 1,\n",
    "            \"attributes\": {\n",
    "                \"title\": \"Data Diri\",\n",
    "                \"body\": \"Berikut adalah data diri\",\n",
    "                \"created\": \"10-05-2024\",\n",
    "                \"updated\": \"10-05-2024\"\n",
    "            },\n",
    "            \"relationships\": {\n",
    "                \"author\": {\n",
    "                    \"data\": {\n",
    "                        \"type\": \"person\",\n",
    "                        \"id\": 101\n",
    "                    }\n",
    "                }\n",
    "            }\n",
    "        }\n",
    "    ],\n",
    "    \"included\": [\n",
    "        {\n",
    "            \"type\": \"person\",\n",
    "            \"id\": 101,\n",
    "            \"attributes\": {\n",
    "                \"name\": \"Rivai\",\n",
    "                \"age\": 22,\n",
    "                \"gender\": \"Laki-Laki\"\n",
    "            }\n",
    "        }\n",
    "    ]\n",
    "}\n",
    "\n",
    "data_array = []\n",
    "for article in response[\"data\"]:\n",
    "    data_array.append({\n",
    "        \"type\": article[\"type\"],\n",
    "        \"id\": article[\"id\"],\n",
    "        \"attributes\": {\n",
    "            \"title\": article[\"attributes\"][\"title\"],\n",
    "            \"body\": article[\"attributes\"][\"body\"],\n",
    "            \"created\": article[\"attributes\"][\"created\"],\n",
    "            \"updated\": article[\"attributes\"][\"updated\"]\n",
    "        },\n",
    "        \"relationships\": {\n",
    "            \"author\": {\n",
    "                \"data\": article[\"relationships\"][\"author\"][\"data\"]\n",
    "            }\n",
    "        }\n",
    "    })\n",
    "\n",
    "include_array = []\n",
    "for person in response[\"included\"]:\n",
    "    include_array.append({\n",
    "        \"type\": person[\"type\"],\n",
    "        \"id\": person[\"id\"],\n",
    "        \"attributes\": {\n",
    "            \"name\": person[\"attributes\"][\"name\"],\n",
    "            \"age\": person[\"attributes\"][\"age\"],\n",
    "            \"gender\": person[\"attributes\"][\"gender\"]\n",
    "        }\n",
    "    })\n",
    "\n",
    "converted = {\n",
    "    \"data\": data_array,\n",
    "    \"included\": include_array\n",
    "}\n",
    "\n",
    "print(converted, \"\\n\")\n",
    "\n",
    "for data in converted[\"data\"]:\n",
    "    print_kostumisasi(\"48;2;0;0;0\", \"38;2;255;0;0m\\033[1m\\033[4\", data[\"attributes\"][\"title\"])\n",
    "    print_kostumisasi(\"48;2;0;0;0\", \"38;2;0;255;0\", data[\"attributes\"][\"body\"])\n",
    "    for person in converted[\"included\"]:\n",
    "        if person[\"id\"] == data[\"relationships\"][\"author\"][\"data\"][\"id\"]:\n",
    "            print_kostumisasi(\"48;2;0;0;0\", \"38;2;255;0;255\", f\"Nama : {person['attributes']['name']}\")\n",
    "            print_kostumisasi(\"48;2;0;0;0\", \"38;2;255;0;255\", f\"Umur : {person['attributes']['age']}\")\n",
    "            print_kostumisasi(\"48;2;0;0;0\", \"38;2;255;0;255\", f\"Jenis Kelamin : {person['attributes']['gender']}\")\n",
    "    print_kostumisasi(\"48;2;0;0;0\", \"38;2;255;255;0\", f\"Created : {data['attributes']['created']}\")"
   ]
  }
 ],
 "metadata": {
  "kernelspec": {
   "display_name": "Python 3",
   "language": "python",
   "name": "python3"
  },
  "language_info": {
   "codemirror_mode": {
    "name": "ipython",
    "version": 3
   },
   "file_extension": ".py",
   "mimetype": "text/x-python",
   "name": "python",
   "nbconvert_exporter": "python",
   "pygments_lexer": "ipython3",
   "version": "3.10.12"
  }
 },
 "nbformat": 4,
 "nbformat_minor": 2
}
