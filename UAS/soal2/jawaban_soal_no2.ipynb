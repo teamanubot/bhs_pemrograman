{
 "cells": [
  {
   "cell_type": "code",
   "execution_count": 1,
   "metadata": {},
   "outputs": [
    {
     "name": "stdout",
     "output_type": "stream",
     "text": [
      "Hasil: 5.0\n",
      "Operasi selesai.\n",
      "Error: Pembagi tidak boleh nol!\n",
      "Operasi selesai.\n",
      "Error: Input harus berupa angka!\n",
      "Operasi selesai.\n"
     ]
    }
   ],
   "source": [
    "def bagi(a, b):\n",
    "    try:\n",
    "        hasil = a / b\n",
    "    except ZeroDivisionError:\n",
    "        print(\"Error: Pembagi tidak boleh nol!\")\n",
    "        return None\n",
    "    except TypeError:\n",
    "        print(\"Error: Input harus berupa angka!\")\n",
    "        return None\n",
    "    else:\n",
    "        print(f\"Hasil: {hasil}\")\n",
    "        return hasil\n",
    "    finally:\n",
    "        print(\"Operasi selesai.\")\n",
    "\n",
    "bagi(10, 2)\n",
    "\n",
    "bagi(10, 0)\n",
    "\n",
    "bagi(10, 'a')\n"
   ]
  },
  {
   "cell_type": "markdown",
   "metadata": {},
   "source": [
    "# Capture Program Function of Exception Handling\n",
    "![Screenshoot Program](Screenshoot_Program.png)"
   ]
  }
 ],
 "metadata": {
  "kernelspec": {
   "display_name": "Python 3",
   "language": "python",
   "name": "python3"
  },
  "language_info": {
   "codemirror_mode": {
    "name": "ipython",
    "version": 3
   },
   "file_extension": ".py",
   "mimetype": "text/x-python",
   "name": "python",
   "nbconvert_exporter": "python",
   "pygments_lexer": "ipython3",
   "version": "3.10.12"
  }
 },
 "nbformat": 4,
 "nbformat_minor": 2
}
