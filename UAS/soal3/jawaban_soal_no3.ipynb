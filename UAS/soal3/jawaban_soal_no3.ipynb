{
 "cells": [
  {
   "cell_type": "code",
   "execution_count": 2,
   "metadata": {},
   "outputs": [],
   "source": [
    "import tkinter as tk\n",
    "from tkinter import messagebox\n",
    "\n",
    "def on_button_click():\n",
    "    user_input = entry.get()\n",
    "    messagebox.showinfo(\"Informasi\", f\"Anda memasukkan: {user_input}\")\n",
    "\n",
    "window = tk.Tk()\n",
    "window.title(\"Contoh GUI Sederhana\")\n",
    "window.geometry(\"300x200\")\n",
    "\n",
    "label = tk.Label(window, text=\"Masukkan sesuatu:\")\n",
    "label.pack(pady=10)\n",
    "\n",
    "entry = tk.Entry(window, width=25)\n",
    "entry.pack(pady=5)\n",
    "\n",
    "button = tk.Button(window, text=\"Kirim\", command=on_button_click)\n",
    "button.pack(pady=20)\n",
    "\n",
    "window.mainloop()\n"
   ]
  },
  {
   "cell_type": "markdown",
   "metadata": {},
   "source": [
    "# Capture Program\n",
    "![Program](ss_p3.png)"
   ]
  }
 ],
 "metadata": {
  "kernelspec": {
   "display_name": "Python 3",
   "language": "python",
   "name": "python3"
  },
  "language_info": {
   "codemirror_mode": {
    "name": "ipython",
    "version": 3
   },
   "file_extension": ".py",
   "mimetype": "text/x-python",
   "name": "python",
   "nbconvert_exporter": "python",
   "pygments_lexer": "ipython3",
   "version": "3.10.12"
  }
 },
 "nbformat": 4,
 "nbformat_minor": 2
}
