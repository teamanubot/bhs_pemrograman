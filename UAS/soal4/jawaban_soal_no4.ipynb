{
 "cells": [
  {
   "cell_type": "code",
   "execution_count": 3,
   "metadata": {},
   "outputs": [
    {
     "name": "stdout",
     "output_type": "stream",
     "text": [
      "Koneksi berhasil ke database SQLite versi 2.6.0\n",
      "User baru telah ditambahkan dengan id: 1\n",
      "Daftar user:\n",
      "(1, 'RIvai', 30)\n"
     ]
    }
   ],
   "source": [
    "import sqlite3\n",
    "\n",
    "def create_connection(db_file):\n",
    "    \"\"\"Membuat koneksi ke database SQLite. Jika file database belum ada, akan dibuat.\"\"\"\n",
    "    conn = None\n",
    "    try:\n",
    "        conn = sqlite3.connect(db_file)\n",
    "        print(f\"Koneksi berhasil ke database SQLite versi {sqlite3.version}\")\n",
    "    except sqlite3.Error as e:\n",
    "        print(e)\n",
    "    return conn\n",
    "\n",
    "def create_table(conn):\n",
    "    \"\"\"Membuat tabel di database SQLite.\"\"\"\n",
    "    try:\n",
    "        sql_create_table = \"\"\"CREATE TABLE IF NOT EXISTS users (\n",
    "                                  id integer PRIMARY KEY,\n",
    "                                  name text NOT NULL,\n",
    "                                  age integer\n",
    "                              );\"\"\"\n",
    "        cursor = conn.cursor()\n",
    "        cursor.execute(sql_create_table)\n",
    "    except sqlite3.Error as e:\n",
    "        print(e)\n",
    "\n",
    "def insert_user(conn, user):\n",
    "    \"\"\"Memasukkan user baru ke tabel users.\"\"\"\n",
    "    try:\n",
    "        sql_insert_user = \"\"\"INSERT INTO users (name, age) VALUES (?, ?)\"\"\"\n",
    "        cursor = conn.cursor()\n",
    "        cursor.execute(sql_insert_user, user)\n",
    "        conn.commit()\n",
    "        return cursor.lastrowid\n",
    "    except sqlite3.Error as e:\n",
    "        print(e)\n",
    "        return None\n",
    "\n",
    "def select_all_users(conn):\n",
    "    \"\"\"Mengambil semua user dari tabel users.\"\"\"\n",
    "    try:\n",
    "        sql_select_all = \"SELECT * FROM users\"\n",
    "        cursor = conn.cursor()\n",
    "        cursor.execute(sql_select_all)\n",
    "        rows = cursor.fetchall()\n",
    "        return rows\n",
    "    except sqlite3.Error as e:\n",
    "        print(e)\n",
    "        return []\n",
    "\n",
    "def main():\n",
    "    database = \"example.db\"\n",
    "    conn = create_connection(database)\n",
    "    \n",
    "    if conn:\n",
    "        create_table(conn)\n",
    "        user = (\"RIvai\", 30)\n",
    "        user_id = insert_user(conn, user)\n",
    "        if user_id:\n",
    "            print(f\"User baru telah ditambahkan dengan id: {user_id}\")\n",
    "\n",
    "        users = select_all_users(conn)\n",
    "        print(\"Daftar user:\")\n",
    "        for row in users:\n",
    "            print(row)\n",
    "\n",
    "        conn.close()\n",
    "\n",
    "if __name__ == \"__main__\":\n",
    "    main()"
   ]
  },
  {
   "cell_type": "markdown",
   "metadata": {},
   "source": [
    "# Capture Program\n",
    "![Program](ss_p4.png)"
   ]
  }
 ],
 "metadata": {
  "kernelspec": {
   "display_name": "Python 3",
   "language": "python",
   "name": "python3"
  },
  "language_info": {
   "codemirror_mode": {
    "name": "ipython",
    "version": 3
   },
   "file_extension": ".py",
   "mimetype": "text/x-python",
   "name": "python",
   "nbconvert_exporter": "python",
   "pygments_lexer": "ipython3",
   "version": "3.10.12"
  }
 },
 "nbformat": 4,
 "nbformat_minor": 2
}
