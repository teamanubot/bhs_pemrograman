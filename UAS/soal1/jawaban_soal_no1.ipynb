{
 "cells": [
  {
   "cell_type": "code",
   "execution_count": 1,
   "metadata": {},
   "outputs": [
    {
     "name": "stdout",
     "output_type": "stream",
     "text": [
      "Luas lingkaran dengan jari-jari 5 adalah 78.54\n"
     ]
    }
   ],
   "source": [
    "## Function\n",
    "import math\n",
    "\n",
    "def hitung_luas_lingkaran(jari_jari):\n",
    "    return math.pi * jari_jari * jari_jari\n",
    "\n",
    "jari_jari = 5\n",
    "luas = hitung_luas_lingkaran(jari_jari)\n",
    "print(f\"Luas lingkaran dengan jari-jari {jari_jari} adalah {luas:.2f}\")"
   ]
  },
  {
   "cell_type": "markdown",
   "metadata": {},
   "source": [
    "# Capture Program FUnction\n",
    "\n",
    "![Screenshoot Function](Screenshoot_Function.png)"
   ]
  },
  {
   "cell_type": "code",
   "execution_count": 3,
   "metadata": {},
   "outputs": [
    {
     "name": "stdout",
     "output_type": "stream",
     "text": [
      "Faktorial dari 5 adalah 120\n"
     ]
    }
   ],
   "source": [
    "## Rekursif\n",
    "def faktorial(n):\n",
    "    if n == 0:\n",
    "        return 1\n",
    "    else:\n",
    "        return n * faktorial(n - 1)\n",
    "\n",
    "angka = 5\n",
    "hasil = faktorial(angka)\n",
    "print(f\"Faktorial dari {angka} adalah {hasil}\")"
   ]
  },
  {
   "cell_type": "markdown",
   "metadata": {},
   "source": [
    "# Capture Program Rekursif\n",
    "![Screenshoot Rekursif](Screenshoot_Rekursif.png)"
   ]
  }
 ],
 "metadata": {
  "kernelspec": {
   "display_name": "Python 3",
   "language": "python",
   "name": "python3"
  },
  "language_info": {
   "codemirror_mode": {
    "name": "ipython",
    "version": 3
   },
   "file_extension": ".py",
   "mimetype": "text/x-python",
   "name": "python",
   "nbconvert_exporter": "python",
   "pygments_lexer": "ipython3",
   "version": "3.10.12"
  }
 },
 "nbformat": 4,
 "nbformat_minor": 2
}
