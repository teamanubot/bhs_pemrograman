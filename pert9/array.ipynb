{
 "cells": [
  {
   "cell_type": "markdown",
   "metadata": {},
   "source": [
    "ARRAY"
   ]
  },
  {
   "cell_type": "markdown",
   "metadata": {},
   "source": [
    "SET\n",
    "Merupakan tipe data kolektif yang di gunakan untuk menyimpan multiple values dalam single variabel dengan memenuhi kondisi:\n",
    " - store member values must unique not ducplicate\n",
    " - the value of the member that has been enetered cant be change anymore\n",
    " - set is unordered it's can't be access by index"
   ]
  },
  {
   "cell_type": "code",
   "execution_count": 5,
   "metadata": {},
   "outputs": [
    {
     "name": "stdout",
     "output_type": "stream",
     "text": [
      "{'Ayu', 'Lono', 'Siti', 'Joni'}\n",
      "{'mangga', 'apel'}\n",
      "{'animal', True, 5, 'man', ('A', 'B')}\n"
     ]
    }
   ],
   "source": [
    "# GENERAL SET\n",
    "\n",
    "# use curly braces\n",
    "student_set = {'Joni', 'Lono', 'Ayu', \"Siti\"}\n",
    "print(student_set)\n",
    "\n",
    "# convert list into set\n",
    "fruit_set = set(['mangga', 'apel'])\n",
    "print(fruit_set)\n",
    "\n",
    "# set with different data types\n",
    "set_mix={'man', 'animal', 5, True, ('A', 'B')}\n",
    "print(set_mix)"
   ]
  },
  {
   "cell_type": "markdown",
   "metadata": {},
   "source": [
    "DEFINISI Struktur data adalah cara untuk menyimpan, mengatur, mengelompokkan, dan merepresentasikan data. Struktur data sangat penting dan harus dikuasai oleh seorang programmer. Array (dalam python) merupakan Struktur Data yang digunakan untuk menyimpan dan mengatur kumpulan data.\n",
    "SET Set dalam Python merupakan tipe data kolektif yang digunakan untuk menyimpan beberapa nilai dalam satu variabel dengan kondisi berikut:\n",
    "\n",
    "Nilai yang disimpan harus unik (tidak boleh ada duplikasi).\n",
    "Nilai yang sudah dimasukkan tidak bisa diubah lagi.\n",
    "Set tidak berurutan, sehingga tidak bisa diakses menggunakan indeks.\n",
    "Bentuk umum dari Set:"
   ]
  },
  {
   "cell_type": "code",
   "execution_count": 1,
   "metadata": {},
   "outputs": [
    {
     "name": "stdout",
     "output_type": "stream",
     "text": [
      "{'Basith', 'Huda', 'Wahid', 'Lendis'}\n",
      "{'mango', 'Apple'}\n",
      "{True, 5, ('A', 'B'), 'man', 'animal'}\n"
     ]
    }
   ],
   "source": [
    "student_set = {'Huda', 'Lendis', 'Wahid', 'Basith'}\n",
    "print(student_set)\n",
    "\n",
    "# Mengubah list menjadi set:\n",
    "fruit_set = set(['mango', 'Apple'])\n",
    "print(fruit_set)\n",
    "\n",
    "# Set dengan tipe data yang berbeda:\n",
    "set_mix = {'man', 'animal', 5, True, ('A', 'B')}\n",
    "print(set_mix)"
   ]
  },
  {
   "cell_type": "markdown",
   "metadata": {},
   "source": [
    "a. Set Tidak Berurutan\n",
    "\n",
    "Set tidak memiliki urutan, artinya kita tidak bisa menggunakan indeks untuk mengakses nilai di dalam set."
   ]
  },
  {
   "cell_type": "code",
   "execution_count": 2,
   "metadata": {},
   "outputs": [
    {
     "ename": "TypeError",
     "evalue": "'set' object is not subscriptable",
     "output_type": "error",
     "traceback": [
      "\u001b[0;31m---------------------------------------------------------------------------\u001b[0m",
      "\u001b[0;31mTypeError\u001b[0m                                 Traceback (most recent call last)",
      "Cell \u001b[0;32mIn[2], line 2\u001b[0m\n\u001b[1;32m      1\u001b[0m my_set \u001b[38;5;241m=\u001b[39m {\u001b[38;5;124m'\u001b[39m\u001b[38;5;124ma\u001b[39m\u001b[38;5;124m'\u001b[39m}\n\u001b[0;32m----> 2\u001b[0m \u001b[38;5;28mprint\u001b[39m(\u001b[43mmy_set\u001b[49m\u001b[43m[\u001b[49m\u001b[38;5;241;43m0\u001b[39;49m\u001b[43m]\u001b[49m)  \u001b[38;5;66;03m# Akan menghasilkan error\u001b[39;00m\n",
      "\u001b[0;31mTypeError\u001b[0m: 'set' object is not subscriptable"
     ]
    }
   ],
   "source": [
    "my_set = {'a'}\n",
    "print(my_set[0])  # Akan menghasilkan error"
   ]
  },
  {
   "cell_type": "markdown",
   "metadata": {},
   "source": [
    "b. Set Tidak Bisa Diubah\n",
    "\n",
    "Nilai dalam set tidak bisa diubah, namun kita bisa menambah atau menghapus anggota dari set."
   ]
  },
  {
   "cell_type": "code",
   "execution_count": 4,
   "metadata": {},
   "outputs": [
    {
     "ename": "TypeError",
     "evalue": "set expected at most 1 argument, got 3",
     "output_type": "error",
     "traceback": [
      "\u001b[0;31m---------------------------------------------------------------------------\u001b[0m",
      "\u001b[0;31mTypeError\u001b[0m                                 Traceback (most recent call last)",
      "Cell \u001b[0;32mIn[4], line 10\u001b[0m\n\u001b[1;32m      1\u001b[0m set_fruit \u001b[38;5;241m=\u001b[39m {\u001b[38;5;124m'\u001b[39m\u001b[38;5;124mmango\u001b[39m\u001b[38;5;124m'\u001b[39m, \u001b[38;5;124m'\u001b[39m\u001b[38;5;124mlemon\u001b[39m\u001b[38;5;124m'\u001b[39m, \u001b[38;5;124m'\u001b[39m\u001b[38;5;124mavocado\u001b[39m\u001b[38;5;124m'\u001b[39m, \u001b[38;5;28;01mTrue\u001b[39;00m, \u001b[38;5;241m1\u001b[39m, \u001b[38;5;241m2\u001b[39m, \u001b[38;5;241m3\u001b[39m}\n\u001b[1;32m      3\u001b[0m keyboard_\u001b[38;5;241m=\u001b[39m {\n\u001b[1;32m      4\u001b[0m     (\u001b[38;5;241m1\u001b[39m, \u001b[38;5;241m2\u001b[39m, \u001b[38;5;241m3\u001b[39m),\n\u001b[1;32m      5\u001b[0m     (\u001b[38;5;241m4\u001b[39m, \u001b[38;5;241m5\u001b[39m, \u001b[38;5;241m6\u001b[39m),\n\u001b[1;32m      6\u001b[0m     (\u001b[38;5;241m7\u001b[39m, \u001b[38;5;241m8\u001b[39m, \u001b[38;5;241m9\u001b[39m),\n\u001b[1;32m      7\u001b[0m     (\u001b[38;5;241m0\u001b[39m)\n\u001b[1;32m      8\u001b[0m }\n\u001b[0;32m---> 10\u001b[0m x \u001b[38;5;241m=\u001b[39m \u001b[38;5;28;43mset\u001b[39;49m\u001b[43m(\u001b[49m\u001b[38;5;241;43m35\u001b[39;49m\u001b[43m,\u001b[49m\u001b[43m \u001b[49m\u001b[38;5;241;43m100\u001b[39;49m\u001b[43m,\u001b[49m\u001b[43m \u001b[49m\u001b[43m[\u001b[49m\u001b[38;5;124;43m'\u001b[39;49m\u001b[38;5;124;43ma\u001b[39;49m\u001b[38;5;124;43m'\u001b[39;49m\u001b[43m,\u001b[49m\u001b[43m \u001b[49m\u001b[38;5;124;43m'\u001b[39;49m\u001b[38;5;124;43mb\u001b[39;49m\u001b[38;5;124;43m'\u001b[39;49m\u001b[43m]\u001b[49m\u001b[43m)\u001b[49m\n",
      "\u001b[0;31mTypeError\u001b[0m: set expected at most 1 argument, got 3"
     ]
    }
   ],
   "source": [
    "set_fruit = {'mango', 'lemon', 'avocado', True, 1, 2, 3}\n",
    "\n",
    "keyboard_= {\n",
    "    (1, 2, 3),\n",
    "    (4, 5, 6),\n",
    "    (7, 8, 9),\n",
    "    (0)\n",
    "}\n",
    "\n",
    "x = set(35, 100, ['a', 'b'])"
   ]
  },
  {
   "cell_type": "markdown",
   "metadata": {},
   "source": [
    "c. Set Tidak Ada Nilai Duplikat\n",
    "\n",
    "Set tidak menerima nilai duplikat. Jika kita memasukkan nilai yang sudah ada, nilai tersebut hanya akan muncul sekali."
   ]
  },
  {
   "cell_type": "code",
   "execution_count": 5,
   "metadata": {},
   "outputs": [
    {
     "name": "stdout",
     "output_type": "stream",
     "text": [
      "{'is', 'bright', 'morning', 'which', 'this', 'very'}\n"
     ]
    }
   ],
   "source": [
    "unique_word = {'morning', 'this', 'is', 'morning', 'which', 'very', 'bright'}\n",
    "print(unique_word)"
   ]
  },
  {
   "cell_type": "markdown",
   "metadata": {},
   "source": [
    "d. Menambahkan/Memperbarui Elemen Set Meskipun nilai dalam set tidak dapat diubah, kita tetap bisa menambahkan dan menghapus elemen dalam set. Kita bisa menambahkan elemen baru ke set dengan menggunakan fungsi add() dan update(). Contohnya:"
   ]
  },
  {
   "cell_type": "code",
   "execution_count": 6,
   "metadata": {},
   "outputs": [
    {
     "name": "stdout",
     "output_type": "stream",
     "text": [
      "{'c', 'b', 'a'}\n",
      "{'c', 'h', 'd', 'i', 'f', 'e', 'g', 'b', 'a'}\n"
     ]
    }
   ],
   "source": [
    "alphabet_set = {'a', 'b', 'c'}\n",
    "print(alphabet_set)\n",
    "\n",
    "# menambahkan satu per satu\n",
    "alphabet_set.add('d')\n",
    "alphabet_set.add('e')\n",
    "\n",
    "# menambahkan lebih dari satu elemen sekaligus\n",
    "alphabet_set.update({'f', 'g'})\n",
    "alphabet_set.update(['h', 'i'])\n",
    "\n",
    "print(alphabet_set)"
   ]
  },
  {
   "cell_type": "markdown",
   "metadata": {},
   "source": [
    "e. Menghapus Elemen Set Untuk menghapus elemen dari set, ada 4 fungsi yang dapat digunakan:\n",
    "\n",
    "remove(value) - Menghapus nilai yang dicari. Jika nilai tidak ada, akan muncul error. discard(value) - Menghapus nilai yang dicari. Jika nilai tidak ada, tidak ada error. pop() - Mengambil dan menghapus nilai di sebelah kiri. clear() - Menghapus semua elemen. Contohnya:"
   ]
  },
  {
   "cell_type": "code",
   "execution_count": 7,
   "metadata": {},
   "outputs": [
    {
     "name": "stdout",
     "output_type": "stream",
     "text": [
      "{False, True, 100, ('a', 'b'), 'virtual', 'virtuous'}\n",
      "{False, True, ('a', 'b'), 'virtual', 'virtuous'}\n",
      "{False, True, 'virtual', 'virtuous'}\n",
      "Removed value = False\n",
      "{True, 'virtual', 'virtuous'}\n",
      "set()\n"
     ]
    }
   ],
   "source": [
    "set = {'virtual', 'virtuous', 100, ('a', 'b'), False, True}\n",
    "print(set)\n",
    "\n",
    "# akan error jika nilai 100 tidak ada di set\n",
    "set.remove(100)\n",
    "print(set)\n",
    "\n",
    "# tidak akan error jika ('a', 'b') tidak ada di set\n",
    "set.discard(('a', 'b'))\n",
    "print(set)\n",
    "\n",
    "# menghapus nilai di sebelah kiri\n",
    "Removedvalue = set.pop()\n",
    "print(\"Removed value =\", Removedvalue)\n",
    "print(set)\n",
    "\n",
    "# menghapus semua nilai\n",
    "set.clear()\n",
    "print(set)"
   ]
  },
  {
   "cell_type": "markdown",
   "metadata": {},
   "source": [
    "f. Fungsi-fungsi Set Berikut adalah ringkasan fungsi-fungsi bawaan dari tipe data set yang bisa kita gunakan:\n",
    "\n",
    "Fungsi Kegunaan\n",
    "\n",
    "add() Menambahkan satu anggota ke set\n",
    "clear() Menghapus seluruh set\n",
    "copy() Membuat salinan satu set ke set baru\n",
    "difference() Melakukan operasi selisih antara dua set\n",
    "difference_update() Menghapus anggota set lain yang ada di set saat ini\n",
    "discard() Menghapus satu anggota dari set\n",
    "intersection() Melakukan operasi irisan antara dua set\n",
    "intersection_update() Memperbarui anggota yang merupakan irisan dari dua set\n",
    "isdisjoint() Mengembalikan nilai True jika dua set tidak memiliki irisan\n",
    "issubset() Mengembalikan nilai True jika set lain memiliki anggota dari set saat ini\n",
    "issuperset() Mengembalikan nilai True jika set saat ini memiliki anggota dari set lain\n",
    "pop() Mengambil dan menghapus nilai yang dihapus dari set\n",
    "remove() Menghapus satu nilai dari set\n",
    "symmetric_difference() Melakukan operasi komplemen antar dua set\n",
    "symmetric_difference_update() Mengupdate set dari hasil komplemen\n",
    "union() Melakukan operasi gabungan dari dua atau lebih set\n",
    "update() Mengupdate set dengan menambahkan suatu nilai tertentu\n",
    "Kamus (Dictionary) Pengertian Kamus Dictionary adalah tipe data dalam Python yang digunakan untuk menyimpan kumpulan data/nilai dengan pendekatan \"key-value\". Kamus itu sendiri memiliki dua komponen inti: Kunci (key) dan Nilai (value). Kunci adalah atribut dari sebuah item dalam kamus, sedangkan nilai adalah nilai yang disimpan dalam atribut.\n",
    "Kamus memiliki tiga sifat utama:\n",
    "\n",
    "Tidak Berurutan (Unordered): Kamus tidak bersifat urutan, jadi kunci/atribut yang kita definisikan pertama, tidak berarti akan menjadi yang pertama dibandingkan kunci lainnya. Kamus juga tidak bisa diakses menggunakan indeks (integer) seperti halnya daftar (list).\n",
    "\n",
    "Dapat Diubah (Changeable): Kita bisa mengubah nilai yang telah dimasukkan ke dalam kamus. Ini berbeda dari tipe data set dan tuple, yang keduanya tidak bisa diubah atau immutable.\n",
    "\n",
    "Unik (Unique): Kamus tidak bisa memiliki lebih dari satu kunci yang sama karena kunci harus unik. Jadi jika ada dua kunci yang sama, nilai terakhir yang didefinisikan akan menggantikan nilai yang didefinisikan sebelumnya.\n",
    "\n",
    "a. Membuat Elemen Kamus Cara membuat kamus dalam Python ada dua:\n",
    "\n",
    "Menggunakan kurung kurawal {}. Menggunakan fungsi atau konstruktor dict(). Contoh:"
   ]
  },
  {
   "cell_type": "code",
   "execution_count": 8,
   "metadata": {},
   "outputs": [],
   "source": [
    "# Cara pertama\n",
    "book = {\n",
    "    \"title\": \"Fall Leaves Never Hate The Wind\",\n",
    "    \"writer\": \"Tere Liye\"\n",
    "}\n",
    "\n",
    "# Cara kedua\n",
    "book = dict(\n",
    "    title=\"Fall Leaves Never Hate The Wind\",\n",
    "    author=\"Tere Liye\"\n",
    ")"
   ]
  },
  {
   "cell_type": "markdown",
   "metadata": {},
   "source": [
    "b. Menambah/Memperbarui Elemen Kamus Untuk menambah kunci dan item baru, caranya adalah dengan mengedit item. Jadi, jika kunci yang kita definisikan sudah ada, sistem akan menggantikan item lama dengan item baru, atau mengeditnya. Namun jika kunci yang kita definisikan belum ada, sistem akan menambahkannya sebagai item baru.\n",
    "\n",
    "Contoh:"
   ]
  },
  {
   "cell_type": "code",
   "execution_count": 9,
   "metadata": {},
   "outputs": [
    {
     "name": "stdout",
     "output_type": "stream",
     "text": [
      "Hobby: None\n",
      "Hobby dari Lendis Fabri adalah Fishing\n"
     ]
    }
   ],
   "source": [
    "student = {\n",
    "    'name': 'Lendis Fabri',\n",
    "    'origin': 'Indonesia'\n",
    "}\n",
    "\n",
    "# Output None\n",
    "print('Hobby:', student.get('hobby'))\n",
    "\n",
    "# Menambah data\n",
    "student['hobby'] = 'Fishing'\n",
    "\n",
    "# Cetak ulang\n",
    "print('Hobby dari {} adalah {}'.format(\n",
    "    student.get('name'),\n",
    "    student.get('hobby')\n",
    "))"
   ]
  },
  {
   "cell_type": "markdown",
   "metadata": {},
   "source": [
    "c. Menghapus Elemen Kamus Ada dua cara untuk menghapus item:\n",
    "\n",
    "Menggunakan pernyataan del [key]. Menggunakan fungsi pop(). Perbedaan antara keduanya adalah jika kita menggunakan fungsi pop(), kita bisa mendapatkan nilai kembalian dari item yang dihapus.\n",
    "\n",
    "Contoh:"
   ]
  },
  {
   "cell_type": "code",
   "execution_count": 10,
   "metadata": {},
   "outputs": [
    {
     "name": "stdout",
     "output_type": "stream",
     "text": [
      "Isi pesan: None\n",
      "Isi pesan: THIS MESSAGE CAN ONLY BE READ ONCE!!\n"
     ]
    }
   ],
   "source": [
    "student = {\n",
    "    'name': 'Wahid Abdullah',\n",
    "    'age': 18,\n",
    "    'origin': 'Indonesia'\n",
    "}\n",
    "\n",
    "del student['name']\n",
    "student.pop('age')\n",
    "student.pop('origin')\n",
    "\n",
    "# Contoh penggunaan pop() yang mengembalikan nilai\n",
    "short_message = {\n",
    "    \"content\": \"THIS MESSAGE CAN ONLY BE READ ONCE!!\"\n",
    "}\n",
    "\n",
    "message_content = short_message.pop('content')\n",
    "\n",
    "# Akses langsung dari kamus\n",
    "print('Isi pesan:', short_message.get('content'))\n",
    "\n",
    "# Akses dari nilai yang disimpan\n",
    "print('Isi pesan:', message_content)"
   ]
  },
  {
   "cell_type": "markdown",
   "metadata": {},
   "source": [
    "d. Operator Keanggotaan (Membership Operators) Kita dapat menggunakan operator keanggotaan untuk tipe data kamus di Python.\n",
    "\n",
    "Contoh:"
   ]
  },
  {
   "cell_type": "code",
   "execution_count": 12,
   "metadata": {},
   "outputs": [],
   "source": [
    "student = {\n",
    "    'name': 'Inspired Renza'\n",
    "}\n"
   ]
  },
  {
   "cell_type": "markdown",
   "metadata": {},
   "source": [
    "e. Fungsi (Dictionary)\n",
    "\n",
    "Berikut adalah ringkasan dari fungsi bawaan Dictionary yang dapat kita gunakan:\n",
    "\n",
    "Fungsi Deskripsi\n",
    "\n",
    "all() Mengembalikan True jika semua key dalam dictionary adalah True (atau jika dictionary kosong).\n",
    "\n",
    "any() Mengembalikan True jika ada key dalam dictionary yang True. Jika dictionary kosong, mengembalikan False.\n",
    "\n",
    "len() Mengembalikan panjang (jumlah item) dalam dictionary.\n",
    "\n",
    "cmp() Membandingkan item dari dua dictionary. (Tidak tersedia di Python 3)\n",
    "\n",
    "sorted() Mengembalikan list yang baru diurutkan dari key dalam dictionary."
   ]
  },
  {
   "cell_type": "code",
   "execution_count": 13,
   "metadata": {},
   "outputs": [
    {
     "name": "stdout",
     "output_type": "stream",
     "text": [
      "Apakah variabel siswa memiliki key nama?\n",
      "True\n",
      "\n",
      "Apakah variabel siswa TIDAK memiliki key usia?\n",
      "True\n"
     ]
    }
   ],
   "source": [
    "print('Apakah variabel siswa memiliki key nama?')\n",
    "print('name' in student)\n",
    "\n",
    "print('\\nApakah variabel siswa TIDAK memiliki key usia?')\n",
    "print('age' not in student)"
   ]
  }
 ],
 "metadata": {
  "kernelspec": {
   "display_name": "Python 3",
   "language": "python",
   "name": "python3"
  },
  "language_info": {
   "codemirror_mode": {
    "name": "ipython",
    "version": 3
   },
   "file_extension": ".py",
   "mimetype": "text/x-python",
   "name": "python",
   "nbconvert_exporter": "python",
   "pygments_lexer": "ipython3",
   "version": "3.8.10"
  }
 },
 "nbformat": 4,
 "nbformat_minor": 2
}
