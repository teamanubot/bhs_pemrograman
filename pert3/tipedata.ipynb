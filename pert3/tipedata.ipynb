{
 "cells": [
  {
   "cell_type": "markdown",
   "metadata": {},
   "source": [
    "<img src=\"https://upload.wikimedia.org/wikipedia/commons/thumb/6/68/LOGO_UEU_BY_ASU-06.png/2560px-LOGO_UEU_BY_ASU-06.png\">"
   ]
  },
  {
   "cell_type": "markdown",
   "metadata": {},
   "source": [
    "<img src = \"https://jupyter-notebook.readthedocs.io/en/stable/_images/python_logo.svg\">"
   ]
  },
  {
   "cell_type": "markdown",
   "metadata": {},
   "source": [
    "- contoh bentuk tipe data int"
   ]
  },
  {
   "cell_type": "code",
   "execution_count": 2,
   "metadata": {},
   "outputs": [
    {
     "name": "stdout",
     "output_type": "stream",
     "text": [
      "<class 'int'>\n"
     ]
    }
   ],
   "source": [
    "a = 1\n",
    "\n",
    "print(a, type(a))"
   ]
  },
  {
   "cell_type": "markdown",
   "metadata": {},
   "source": [
    "- contoh bentuk tipe data string (str)"
   ]
  },
  {
   "cell_type": "code",
   "execution_count": 3,
   "metadata": {},
   "outputs": [
    {
     "name": "stdout",
     "output_type": "stream",
     "text": [
      "<class 'str'>\n"
     ]
    }
   ],
   "source": [
    "a = 'tes'\n",
    "print(a, type(a))"
   ]
  },
  {
   "cell_type": "markdown",
   "metadata": {},
   "source": [
    "- contoh tipe data float"
   ]
  },
  {
   "cell_type": "code",
   "execution_count": 5,
   "metadata": {},
   "outputs": [
    {
     "name": "stdout",
     "output_type": "stream",
     "text": [
      "<class 'float'>\n"
     ]
    }
   ],
   "source": [
    "a = 3.14\n",
    "print(a, type(a))"
   ]
  },
  {
   "cell_type": "markdown",
   "metadata": {},
   "source": [
    "- contoh tipe data complex"
   ]
  },
  {
   "cell_type": "code",
   "execution_count": 7,
   "metadata": {},
   "outputs": [
    {
     "name": "stdout",
     "output_type": "stream",
     "text": [
      "1j <class 'complex'>\n"
     ]
    }
   ],
   "source": [
    "a = 1j\n",
    "print(a, type(a))"
   ]
  },
  {
   "cell_type": "markdown",
   "metadata": {},
   "source": [
    "- JELASKAN MAKSUD DARI PENERAPAN VARIBEL TERKAIT TIPE DATA INT DIBAWAH INI"
   ]
  },
  {
   "cell_type": "code",
   "execution_count": 14,
   "metadata": {},
   "outputs": [
    {
     "name": "stdout",
     "output_type": "stream",
     "text": [
      "2 <class 'int'> , 2 <class 'int'>\n",
      "3 <class 'int'>\n"
     ]
    }
   ],
   "source": [
    "a = 2\n",
    "b = int(2.5)\n",
    "c = int(3.9)\n",
    "\n",
    "print(a, type(a), \",\", b, type(b))\n",
    "print(c, type(c))"
   ]
  },
  {
   "cell_type": "markdown",
   "metadata": {},
   "source": [
    "# JAWABAN : \n",
    "## Variabel a merupakan tipe data integer sedangkan variabel b merupakan tipe data yang dikonversi menjadi integer, jadi didalam kurung tersebut tidak harus bilangan bulat. Ketika kita isi 3.9 maka tipe data yang seharusnya float akan diubah menjadi bilangan bulat atau integer alhasil akan menampilkan seperti variabel c yang bernilai 3"
   ]
  },
  {
   "cell_type": "code",
   "execution_count": 16,
   "metadata": {},
   "outputs": [
    {
     "name": "stdout",
     "output_type": "stream",
     "text": [
      "0 - Hari.senin\n",
      "1 - Hari.selasa\n",
      "2 - Hari.rabu\n",
      "3 - Hari.kamis\n",
      "4 - Hari.jumat\n",
      "5 - Hari.sabtu\n",
      "6 - Hari.minggu\n"
     ]
    }
   ],
   "source": [
    "from enum import Enum\n",
    "\n",
    "class Hari(Enum):\n",
    "    senin = 0\n",
    "    selasa = 1\n",
    "    rabu = 2\n",
    "    kamis = 3\n",
    "    jumat = 4\n",
    "    sabtu = 5\n",
    "    minggu = 6\n",
    "\n",
    "for Hari in (Hari):\n",
    "    print(Hari.value, \"-\",Hari)"
   ]
  }
 ],
 "metadata": {
  "kernelspec": {
   "display_name": "Python 3",
   "language": "python",
   "name": "python3"
  },
  "language_info": {
   "codemirror_mode": {
    "name": "ipython",
    "version": 3
   },
   "file_extension": ".py",
   "mimetype": "text/x-python",
   "name": "python",
   "nbconvert_exporter": "python",
   "pygments_lexer": "ipython3",
   "version": "3.10.12"
  }
 },
 "nbformat": 4,
 "nbformat_minor": 2
}
